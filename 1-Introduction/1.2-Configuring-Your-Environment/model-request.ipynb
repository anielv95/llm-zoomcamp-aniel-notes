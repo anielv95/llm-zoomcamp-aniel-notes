{
 "cells": [
  {
   "cell_type": "code",
   "execution_count": 4,
   "metadata": {},
   "outputs": [],
   "source": [
    "import requests\n",
    "import json\n",
    "import os\n",
    "from dotenv import load_dotenv, find_dotenv"
   ]
  },
  {
   "cell_type": "code",
   "execution_count": 5,
   "metadata": {},
   "outputs": [],
   "source": [
    "_ = load_dotenv(find_dotenv())\n",
    "model = \"accounts/fireworks/models/llama-v2-7b\"\n",
    "prompt = \"Hi there!\"\n",
    "FIREWORKS_API_KEY = os.environ[\"FIREWORKS_API_KEY\"]"
   ]
  },
  {
   "cell_type": "code",
   "execution_count": 6,
   "metadata": {},
   "outputs": [],
   "source": [
    "url = \"https://api.fireworks.ai/inference/v1/completions\"\n",
    "payload = {\n",
    "    \"model\": model,\n",
    "    \"max_tokens\": 512,\n",
    "    \"top_p\": 1,\n",
    "    \"top_k\": 40,\n",
    "    \"presence_penalty\": 0,\n",
    "    \"frequency_penalty\": 0,\n",
    "    \"temperature\": 0.1,\n",
    "    \"prompt\": prompt,\n",
    "}\n",
    "headers = {\n",
    "    \"Accept\": \"application/json\",\n",
    "    \"Content-Type\": \"application/json\",\n",
    "    \"Authorization\": f\"Bearer {FIREWORKS_API_KEY}\",\n",
    "}\n",
    "ans = requests.request(\"POST\", url, headers=headers, data=json.dumps(payload))"
   ]
  },
  {
   "cell_type": "code",
   "execution_count": 9,
   "metadata": {},
   "outputs": [
    {
     "data": {
      "text/plain": [
       "{'id': '92385aea-186e-4a44-8f20-afde06ff17d2',\n",
       " 'object': 'text_completion',\n",
       " 'created': 1718822477,\n",
       " 'model': 'accounts/fireworks/models/llama-v2-7b',\n",
       " 'choices': [{'index': 0,\n",
       "   'text': \" I'm a 20-something year old girl who loves to write. I'm a huge fan of the Harry Potter series, and I'm currently writing a fanfiction based on it. I'm also a huge fan of the Twilight series, and I'm currently writing a fanfiction based on it. I'm also a huge fan of the Hunger Games series, and I'm currently writing a fanfiction based on it. I'm also a huge fan of the Divergent series, and I'm currently writing a fanfiction based on it. I'm also a huge fan of the Maze Runner series, and I'm currently writing a fanfiction based on it. I'm also a huge fan of the Percy Jackson series, and I'm currently writing a fanfiction based on it. I'm also a huge fan of the Mortal Instruments series, and I'm currently writing a fanfiction based on it. I'm also a huge fan of the Vampire Academy series, and I'm currently writing a fanfiction based on it. I'm also a huge fan of the Shadowhunters series, and I'm currently writing a fanfiction based on it. I'm also a huge fan of the Infernal Devices series, and I'm currently writing a fanfiction based on it. I'm also a huge fan of the Throne of Glass series, and I'm currently writing a fanfiction based on it. I'm also a huge fan of the Red Queen series, and I'm currently writing a fanfiction based on it. I'm also a huge fan of the Six of Crows series, and I'm currently writing a fanfiction based on it. I'm also a huge fan of the A Court of Thorns and Roses series, and I'm currently writing a fanfiction based on it. I'm also a huge fan of the A Court of Mist and Fury series, and I'm currently writing a fanfiction based on it. I'm also a huge fan of the A Court of Wings and Ruin series, and I'm currently writing a fanfiction based on it. I'm also a huge fan of the A Court of Frost and Starlight series, and\",\n",
       "   'logprobs': None,\n",
       "   'finish_reason': 'length'}],\n",
       " 'usage': {'prompt_tokens': 4, 'total_tokens': 516, 'completion_tokens': 512}}"
      ]
     },
     "execution_count": 9,
     "metadata": {},
     "output_type": "execute_result"
    }
   ],
   "source": [
    "ans.json()"
   ]
  },
  {
   "cell_type": "code",
   "execution_count": null,
   "metadata": {},
   "outputs": [],
   "source": []
  }
 ],
 "metadata": {
  "kernelspec": {
   "display_name": "Python 3",
   "language": "python",
   "name": "python3"
  },
  "language_info": {
   "codemirror_mode": {
    "name": "ipython",
    "version": 3
   },
   "file_extension": ".py",
   "mimetype": "text/x-python",
   "name": "python",
   "nbconvert_exporter": "python",
   "pygments_lexer": "ipython3",
   "version": "3.11.3"
  }
 },
 "nbformat": 4,
 "nbformat_minor": 2
}
